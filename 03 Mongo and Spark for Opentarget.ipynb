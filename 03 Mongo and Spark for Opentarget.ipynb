{
 "cells": [
  {
   "cell_type": "code",
   "execution_count": 1,
   "id": "5a302114",
   "metadata": {},
   "outputs": [
    {
     "data": {
      "text/html": [
       "\n",
       "            <div>\n",
       "                <p><b>SparkSession - in-memory</b></p>\n",
       "                \n",
       "        <div>\n",
       "            <p><b>SparkContext</b></p>\n",
       "\n",
       "            <p><a href=\"http://DESKTOP-8V7ENTJ:4040\">Spark UI</a></p>\n",
       "\n",
       "            <dl>\n",
       "              <dt>Version</dt>\n",
       "                <dd><code>v3.1.1</code></dd>\n",
       "              <dt>Master</dt>\n",
       "                <dd><code>local</code></dd>\n",
       "              <dt>AppName</dt>\n",
       "                <dd><code>Data Prep</code></dd>\n",
       "            </dl>\n",
       "        </div>\n",
       "        \n",
       "            </div>\n",
       "        "
      ],
      "text/plain": [
       "<pyspark.sql.session.SparkSession at 0x20a59f91388>"
      ]
     },
     "execution_count": 1,
     "metadata": {},
     "output_type": "execute_result"
    }
   ],
   "source": [
    "import findspark\n",
    "findspark.init()\n",
    "\n",
    "# import SparkContext and SparkSession\n",
    "from pyspark import SparkConf, SparkContext\n",
    "from pyspark.sql import SparkSession\n",
    "import os\n",
    "\n",
    "# Use SparkContext and  SparkSession\n",
    "\n",
    "conf = SparkConf()\\\n",
    "    .setMaster('local')\\\n",
    "    .setAppName('Data Prep')\n",
    "sc = SparkContext(conf = conf)\n",
    "ss = SparkSession.builder\\\n",
    "    .master('local')\\\n",
    "    .appName('Data Prep')\\\n",
    "    .getOrCreate()\n",
    "ss"
   ]
  },
  {
   "cell_type": "markdown",
   "id": "56eb0c77",
   "metadata": {},
   "source": [
    "# Read data into Spark dataframe"
   ]
  },
  {
   "cell_type": "markdown",
   "id": "88ee6427",
   "metadata": {},
   "source": [
    "## read json data directly into pyspark dataframe"
   ]
  },
  {
   "cell_type": "code",
   "execution_count": 2,
   "id": "1843d5c3",
   "metadata": {},
   "outputs": [],
   "source": [
    "# Load data\n",
    "study = ss.read.csv('data/study_sample.csv',header = True, inferSchema = True)\n"
   ]
  },
  {
   "cell_type": "markdown",
   "id": "ffea4208",
   "metadata": {},
   "source": [
    "## Read Mongo collection into pySpark Dataframe"
   ]
  },
  {
   "cell_type": "code",
   "execution_count": 3,
   "id": "2b80de1f",
   "metadata": {},
   "outputs": [],
   "source": [
    "study = ss.read.format('com.mongodb.spark.sql.DefaultSource')\\\n",
    "            .option('uri','mongodb://127.0.0.1/opentarget.study')\\\n",
    "            .load()"
   ]
  },
  {
   "cell_type": "code",
   "execution_count": 4,
   "id": "de013c2d",
   "metadata": {},
   "outputs": [],
   "source": [
    "credset = ss.read.format('com.mongodb.spark.sql.DefaultSource')\\\n",
    "            .option('uri','mongodb://127.0.0.1/opentarget.credset')\\\n",
    "            .load()"
   ]
  },
  {
   "cell_type": "code",
   "execution_count": 5,
   "id": "9d7a249e",
   "metadata": {},
   "outputs": [],
   "source": [
    "variant = ss.read.format('com.mongodb.spark.sql.DefaultSource')\\\n",
    "            .option('uri','mongodb://127.0.0.1/opentarget.variant')\\\n",
    "            .load()"
   ]
  },
  {
   "cell_type": "markdown",
   "id": "70dbe399",
   "metadata": {},
   "source": [
    "# Explore data using pySpark"
   ]
  },
  {
   "cell_type": "markdown",
   "id": "06016631",
   "metadata": {},
   "source": [
    "read collections with filters:"
   ]
  },
  {
   "cell_type": "code",
   "execution_count": 6,
   "id": "a8e83575",
   "metadata": {},
   "outputs": [],
   "source": [
    "pipeline = \"{'$match':{'study_id':'GCST004695'}}\""
   ]
  },
  {
   "cell_type": "code",
   "execution_count": 7,
   "id": "db4067c4",
   "metadata": {},
   "outputs": [],
   "source": [
    "df = ss.read.format('com.mongodb.spark.sql.DefaultSource')\\\n",
    "    .option('uri','mongodb://127.0.0.1/opentarget.study')\\\n",
    "    .option('pipeline',pipeline)\\\n",
    "    .load()"
   ]
  },
  {
   "cell_type": "code",
   "execution_count": 9,
   "id": "cef85213",
   "metadata": {},
   "outputs": [
    {
     "name": "stdout",
     "output_type": "stream",
     "text": [
      "+--------------------+-------------------+------------+-------+---------+--------------+-------------+---------------+--------+-----------+--------------------+----------+--------------+---------------+-------------------+\n",
      "|                 _id|   ancestry_initial|has_sumstats|n_cases|n_initial|num_assoc_loci|         pmid|     pub_author|pub_date|pub_journal|           pub_title|  study_id|trait_category|     trait_efos|     trait_reported|\n",
      "+--------------------+-------------------+------------+-------+---------+--------------+-------------+---------------+--------+-----------+--------------------+----------+--------------+---------------+-------------------+\n",
      "|{619c6ef50bf566f7...|[\"European=113006\"]|        true|32384.0|   113006|             2|PMID:28604731|Hammerschlag AR| 6/12/17|  Nat Genet|Genome-wide assoc...|GCST004695|Nervous system|[\"EFO_0004698\"]|Insomnia complaints|\n",
      "+--------------------+-------------------+------------+-------+---------+--------------+-------------+---------------+--------+-----------+--------------------+----------+--------------+---------------+-------------------+\n",
      "\n"
     ]
    }
   ],
   "source": [
    "df.show()"
   ]
  },
  {
   "cell_type": "code",
   "execution_count": 10,
   "id": "428950d0",
   "metadata": {},
   "outputs": [
    {
     "name": "stdout",
     "output_type": "stream",
     "text": [
      "root\n",
      " |-- _id: struct (nullable = true)\n",
      " |    |-- oid: string (nullable = true)\n",
      " |-- ancestry_initial: string (nullable = true)\n",
      " |-- has_sumstats: boolean (nullable = true)\n",
      " |-- n_cases: double (nullable = true)\n",
      " |-- n_initial: integer (nullable = true)\n",
      " |-- num_assoc_loci: integer (nullable = true)\n",
      " |-- pmid: string (nullable = true)\n",
      " |-- pub_author: string (nullable = true)\n",
      " |-- pub_date: string (nullable = true)\n",
      " |-- pub_journal: string (nullable = true)\n",
      " |-- pub_title: string (nullable = true)\n",
      " |-- study_id: string (nullable = true)\n",
      " |-- trait_category: string (nullable = true)\n",
      " |-- trait_efos: string (nullable = true)\n",
      " |-- trait_reported: string (nullable = true)\n",
      "\n"
     ]
    }
   ],
   "source": [
    "study.printSchema()"
   ]
  },
  {
   "cell_type": "code",
   "execution_count": 11,
   "id": "19b54f95",
   "metadata": {},
   "outputs": [
    {
     "name": "stdout",
     "output_type": "stream",
     "text": [
      "root\n",
      " |-- _id: struct (nullable = true)\n",
      " |    |-- oid: string (nullable = true)\n",
      " |-- bio_feature: null (nullable = true)\n",
      " |-- is95_credset: boolean (nullable = true)\n",
      " |-- is99_credset: boolean (nullable = true)\n",
      " |-- lead_alt: string (nullable = true)\n",
      " |-- lead_chrom: integer (nullable = true)\n",
      " |-- lead_pos: integer (nullable = true)\n",
      " |-- lead_ref: string (nullable = true)\n",
      " |-- lead_variant_id: string (nullable = true)\n",
      " |-- logabf: double (nullable = true)\n",
      " |-- multisignal_method: string (nullable = true)\n",
      " |-- phenotype_id: null (nullable = true)\n",
      " |-- postprob: double (nullable = true)\n",
      " |-- postprob_cumsum: double (nullable = true)\n",
      " |-- study_id: string (nullable = true)\n",
      " |-- tag_alt: string (nullable = true)\n",
      " |-- tag_beta: double (nullable = true)\n",
      " |-- tag_beta_cond: double (nullable = true)\n",
      " |-- tag_chrom: integer (nullable = true)\n",
      " |-- tag_pos: integer (nullable = true)\n",
      " |-- tag_pval: double (nullable = true)\n",
      " |-- tag_pval_cond: double (nullable = true)\n",
      " |-- tag_ref: string (nullable = true)\n",
      " |-- tag_se: double (nullable = true)\n",
      " |-- tag_se_cond: double (nullable = true)\n",
      " |-- tag_variant_id: string (nullable = true)\n",
      " |-- type: string (nullable = true)\n",
      "\n"
     ]
    }
   ],
   "source": [
    "credset.printSchema()"
   ]
  },
  {
   "cell_type": "code",
   "execution_count": 11,
   "id": "92ba9534",
   "metadata": {},
   "outputs": [
    {
     "name": "stdout",
     "output_type": "stream",
     "text": [
      "root\n",
      " |-- _id: struct (nullable = true)\n",
      " |    |-- oid: string (nullable = true)\n",
      " |-- alt_allele: string (nullable = true)\n",
      " |-- chr_id: integer (nullable = true)\n",
      " |-- chr_id_b37: integer (nullable = true)\n",
      " |-- gene_id_any: string (nullable = true)\n",
      " |-- gene_id_any_distance: integer (nullable = true)\n",
      " |-- gene_id_prot_coding: string (nullable = true)\n",
      " |-- gene_id_prot_coding_distance: integer (nullable = true)\n",
      " |-- gnomad_afr: double (nullable = true)\n",
      " |-- gnomad_eas: double (nullable = true)\n",
      " |-- gnomad_nfe: double (nullable = true)\n",
      " |-- gnomad_nfe_est: double (nullable = true)\n",
      " |-- gnomad_nfe_nwe: double (nullable = true)\n",
      " |-- gnomad_nfe_onf: double (nullable = true)\n",
      " |-- gnomad_oth: double (nullable = true)\n",
      " |-- index: integer (nullable = true)\n",
      " |-- most_severe_consequence: string (nullable = true)\n",
      " |-- phred: double (nullable = true)\n",
      " |-- position: integer (nullable = true)\n",
      " |-- position_b37: integer (nullable = true)\n",
      " |-- raw: double (nullable = true)\n",
      " |-- ref_allele: string (nullable = true)\n",
      " |-- rs_id: string (nullable = true)\n",
      " |-- variant_id: string (nullable = true)\n",
      "\n"
     ]
    }
   ],
   "source": [
    "variant.printSchema()"
   ]
  },
  {
   "cell_type": "code",
   "execution_count": 12,
   "id": "c628df45",
   "metadata": {},
   "outputs": [
    {
     "data": {
      "text/plain": [
       "['_id',\n",
       " 'ancestry_initial',\n",
       " 'has_sumstats',\n",
       " 'n_cases',\n",
       " 'n_initial',\n",
       " 'num_assoc_loci',\n",
       " 'pmid',\n",
       " 'pub_author',\n",
       " 'pub_date',\n",
       " 'pub_journal',\n",
       " 'pub_title',\n",
       " 'study_id',\n",
       " 'trait_category',\n",
       " 'trait_efos',\n",
       " 'trait_reported']"
      ]
     },
     "execution_count": 12,
     "metadata": {},
     "output_type": "execute_result"
    }
   ],
   "source": [
    "study.columns"
   ]
  },
  {
   "cell_type": "code",
   "execution_count": 13,
   "id": "26b5ceb9",
   "metadata": {},
   "outputs": [
    {
     "name": "stdout",
     "output_type": "stream",
     "text": [
      "+--------------------+-------------------+------------+-------+---------+--------------+-------------+---------------+--------+-----------+--------------------+-------------+--------------+---------------+--------------------+\n",
      "|                 _id|   ancestry_initial|has_sumstats|n_cases|n_initial|num_assoc_loci|         pmid|     pub_author|pub_date|pub_journal|           pub_title|     study_id|trait_category|     trait_efos|      trait_reported|\n",
      "+--------------------+-------------------+------------+-------+---------+--------------+-------------+---------------+--------+-----------+--------------------+-------------+--------------+---------------+--------------------+\n",
      "|{619c6ef50bf566f7...|[\"European=113006\"]|        true|32384.0|   113006|             2|PMID:28604731|Hammerschlag AR| 6/12/17|  Nat Genet|Genome-wide assoc...|   GCST004695|Nervous system|[\"EFO_0004698\"]| Insomnia complaints|\n",
      "|{619c6ef50bf566f7...|[\"European=117890\"]|        true| 5092.0|   117890|            10|         null|   UKB Neale v2|  8/1/18|       null|                null|NEALE2_6148_2|Nervous system|[\"EFO_0000516\"]|Glaucoma | eye pr...|\n",
      "|{619c6ef50bf566f7...|[\"European=360677\"]|        true| 1566.0|   360677|             1|         null|   UKB Neale v2|  8/1/18|       null|                null|NEALE2_6147_5|Nervous system|[\"EFO_0009678\"]|For a 'squint' or...|\n",
      "|{619c6ef50bf566f7...|[\"European=117890\"]|        true| 2726.0|   117890|             2|         null|   UKB Neale v2|  8/1/18|       null|                null|NEALE2_6148_5|Nervous system|[\"EFO_0001365\"]|Macular degenerat...|\n",
      "|{619c6ef50bf566f7...|[\"European=117890\"]|        true|11194.0|   117890|             5|         null|   UKB Neale v2|  8/1/18|       null|                null|NEALE2_6148_4|Nervous system|[\"EFO_0001059\"]|Cataract | eye pr...|\n",
      "+--------------------+-------------------+------------+-------+---------+--------------+-------------+---------------+--------+-----------+--------------------+-------------+--------------+---------------+--------------------+\n",
      "only showing top 5 rows\n",
      "\n"
     ]
    }
   ],
   "source": [
    "study.show(5)"
   ]
  },
  {
   "cell_type": "code",
   "execution_count": 14,
   "id": "4d628ac5",
   "metadata": {},
   "outputs": [
    {
     "data": {
      "text/plain": [
       "202"
      ]
     },
     "execution_count": 14,
     "metadata": {},
     "output_type": "execute_result"
    }
   ],
   "source": [
    "study.count()"
   ]
  },
  {
   "cell_type": "code",
   "execution_count": 15,
   "id": "0232756c",
   "metadata": {},
   "outputs": [
    {
     "name": "stdout",
     "output_type": "stream",
     "text": [
      "+-------------+--------------+---------------+\n",
      "|     study_id|trait_category|     trait_efos|\n",
      "+-------------+--------------+---------------+\n",
      "|   GCST004695|Nervous system|[\"EFO_0004698\"]|\n",
      "|NEALE2_6148_2|Nervous system|[\"EFO_0000516\"]|\n",
      "|NEALE2_6147_5|Nervous system|[\"EFO_0009678\"]|\n",
      "|NEALE2_6148_5|Nervous system|[\"EFO_0001365\"]|\n",
      "|NEALE2_6148_4|Nervous system|[\"EFO_0001059\"]|\n",
      "+-------------+--------------+---------------+\n",
      "only showing top 5 rows\n",
      "\n"
     ]
    }
   ],
   "source": [
    "study['study_id','trait_category','trait_efos'].show(5)\n",
    "# df_study.select('study_id','trait_category','trait_efos').show(5)"
   ]
  },
  {
   "cell_type": "markdown",
   "id": "a89f547b",
   "metadata": {},
   "source": [
    "# Dataframe Join Operations"
   ]
  },
  {
   "cell_type": "markdown",
   "id": "be16082a",
   "metadata": {},
   "source": [
    "## SQL Queries"
   ]
  },
  {
   "cell_type": "code",
   "execution_count": 12,
   "id": "a4839dcb",
   "metadata": {},
   "outputs": [],
   "source": [
    "study.createOrReplaceTempView('study')"
   ]
  },
  {
   "cell_type": "code",
   "execution_count": 13,
   "id": "af79e12e",
   "metadata": {},
   "outputs": [],
   "source": [
    "credset.createOrReplaceTempView('credset')"
   ]
  },
  {
   "cell_type": "code",
   "execution_count": 14,
   "id": "e7644147",
   "metadata": {},
   "outputs": [],
   "source": [
    "variant.createOrReplaceTempView('variant')"
   ]
  },
  {
   "cell_type": "code",
   "execution_count": 15,
   "id": "2b6ad6e9",
   "metadata": {},
   "outputs": [],
   "source": [
    "study_sql_results = ss.sql('SELECT * FROM study WHERE trait_category=\"Nervous system\"')"
   ]
  },
  {
   "cell_type": "code",
   "execution_count": 16,
   "id": "25a72678",
   "metadata": {},
   "outputs": [
    {
     "name": "stdout",
     "output_type": "stream",
     "text": [
      "+-------------+--------------+--------------------+\n",
      "|     study_id|trait_category|          trait_efos|\n",
      "+-------------+--------------+--------------------+\n",
      "|   GCST004695|Nervous system|     [\"EFO_0004698\"]|\n",
      "|NEALE2_6148_2|Nervous system|     [\"EFO_0000516\"]|\n",
      "|NEALE2_6147_5|Nervous system|     [\"EFO_0009678\"]|\n",
      "|NEALE2_6148_5|Nervous system|     [\"EFO_0001365\"]|\n",
      "|NEALE2_6148_4|Nervous system|     [\"EFO_0001059\"]|\n",
      "|   GCST006475|Nervous system|[\"EFO_0003761\",\"E...|\n",
      "|   GCST005902|Nervous system|     [\"EFO_0003761\"]|\n",
      "|   GCST005903|Nervous system|     [\"EFO_0003761\"]|\n",
      "|   GCST005904|Nervous system|     [\"EFO_0003761\"]|\n",
      "|   GCST005522|Nervous system|     [\"EFO_0000614\"]|\n",
      "+-------------+--------------+--------------------+\n",
      "only showing top 10 rows\n",
      "\n"
     ]
    }
   ],
   "source": [
    "study_sql_results.select('study_id','trait_category','trait_efos').show(10)"
   ]
  },
  {
   "cell_type": "code",
   "execution_count": 17,
   "id": "d2654365",
   "metadata": {},
   "outputs": [],
   "source": [
    "join_query = ss.sql('''\n",
    "\n",
    "        SELECT s.study_id, s.trait_category, v.chr_id, v.position, v.ref_allele, v.alt_allele, v.rs_id,\n",
    "               v.most_severe_consequence, c.postprob, c.type\n",
    "        FROM study s \n",
    "        JOIN credset c ON c.study_id = s.study_id\n",
    "        JOIN variant v ON v.chr_id = c.tag_chrom AND v.position = c.tag_pos \n",
    "                        AND v.ref_allele = c.tag_ref AND v.alt_allele = c.tag_alt\n",
    "\n",
    "''')"
   ]
  },
  {
   "cell_type": "code",
   "execution_count": 18,
   "id": "40b942b8",
   "metadata": {},
   "outputs": [
    {
     "name": "stdout",
     "output_type": "stream",
     "text": [
      "+-----------------+------------------+------+--------+----------+----------+---------+-----------------------+-----------+----+\n",
      "|         study_id|    trait_category|chr_id|position|ref_allele|alt_allele|    rs_id|most_severe_consequence|   postprob|type|\n",
      "+-----------------+------------------+------+--------+----------+----------+---------+-----------------------+-----------+----+\n",
      "|       GCST004131|     Immune system|     1| 1394423|         A|         G|rs1240747|         intron_variant| 0.03513854|gwas|\n",
      "|       GCST004131|     Immune system|     1| 1847030|         A|         G|rs6687065|         intron_variant|0.006404042|gwas|\n",
      "|       GCST004131|     Immune system|     1| 1847030|         A|         G|rs6687065|         intron_variant|0.001979732|gwas|\n",
      "|       GCST005531|     Immune system|     1| 2592766|         C|         T| rs745368|   non_coding_transc...|0.003813633|gwas|\n",
      "|NEALE2_20002_1111|Respiratory system|     1| 8668805|         G|         A|rs4908505|         intron_variant|0.001161424|gwas|\n",
      "+-----------------+------------------+------+--------+----------+----------+---------+-----------------------+-----------+----+\n",
      "only showing top 5 rows\n",
      "\n"
     ]
    }
   ],
   "source": [
    "join_query.show(5)"
   ]
  }
 ],
 "metadata": {
  "kernelspec": {
   "display_name": "Python 3",
   "language": "python",
   "name": "python3"
  },
  "language_info": {
   "codemirror_mode": {
    "name": "ipython",
    "version": 3
   },
   "file_extension": ".py",
   "mimetype": "text/x-python",
   "name": "python",
   "nbconvert_exporter": "python",
   "pygments_lexer": "ipython3",
   "version": "3.7.9"
  },
  "toc": {
   "base_numbering": 1,
   "nav_menu": {},
   "number_sections": true,
   "sideBar": true,
   "skip_h1_title": false,
   "title_cell": "Table of Contents",
   "title_sidebar": "Contents",
   "toc_cell": false,
   "toc_position": {},
   "toc_section_display": true,
   "toc_window_display": true
  },
  "varInspector": {
   "cols": {
    "lenName": 16,
    "lenType": 16,
    "lenVar": 40
   },
   "kernels_config": {
    "python": {
     "delete_cmd_postfix": "",
     "delete_cmd_prefix": "del ",
     "library": "var_list.py",
     "varRefreshCmd": "print(var_dic_list())"
    },
    "r": {
     "delete_cmd_postfix": ") ",
     "delete_cmd_prefix": "rm(",
     "library": "var_list.r",
     "varRefreshCmd": "cat(var_dic_list()) "
    }
   },
   "types_to_exclude": [
    "module",
    "function",
    "builtin_function_or_method",
    "instance",
    "_Feature"
   ],
   "window_display": false
  }
 },
 "nbformat": 4,
 "nbformat_minor": 5
}
